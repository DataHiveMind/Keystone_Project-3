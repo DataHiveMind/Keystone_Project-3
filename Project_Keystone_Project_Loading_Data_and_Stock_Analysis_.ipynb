{
  "nbformat": 4,
  "nbformat_minor": 0,
  "metadata": {
    "colab": {
      "provenance": []
    },
    "kernelspec": {
      "name": "python3",
      "display_name": "Python 3"
    },
    "language_info": {
      "name": "python"
    }
  },
  "cells": [
    {
      "cell_type": "code",
      "execution_count": null,
      "metadata": {
        "id": "lIGVCaJ2Wdou"
      },
      "outputs": [],
      "source": [
        "!pip install yfinance\n",
        "import yfinance as yf\n",
        "import pandas as pd"
      ]
    },
    {
      "cell_type": "code",
      "source": [
        "url = \"https://en.wikipedia.org/wiki/Dow_Jones_Industrial_Average\"\n",
        "print(url)\n",
        "\n",
        "df = pd.read_html(url)\n",
        "print(df)\n",
        "print(df.info())"
      ],
      "metadata": {
        "id": "67fw_B0erIqv"
      },
      "execution_count": null,
      "outputs": []
    },
    {
      "cell_type": "code",
      "source": [
        "df.rename(columns = {\"Date added\":\"Date_Added\"}, inplace = True)\n",
        "df.rename(columns = {\"Index weighting\":\"Weights\"}, inplace = True)"
      ],
      "metadata": {
        "id": "JIxUJ1JWrquR"
      },
      "execution_count": null,
      "outputs": []
    },
    {
      "cell_type": "code",
      "source": [
        "df.Date_Added = pd.to_datetime(df.Date_Added)\n",
        "print(df)\n",
        "\n",
        "df.Weights = pd.to_numeric(df.weights.str.replace(\"%\", \"\"))\n",
        "print(df)\n",
        "\n",
        "df.Weights.sum()\n",
        "print(df)"
      ],
      "metadata": {
        "id": "njwP-F08sB0G"
      },
      "execution_count": null,
      "outputs": []
    },
    {
      "cell_type": "code",
      "source": [
        "df.drop(columns = \"Notes\", inplace = True)\n",
        "print(df)\n",
        "\n",
        "df.set_index(\"Symbol\", inplace = True)\n",
        "print(df)\n",
        "\n",
        "symbols = df.index.to_list()\n",
        "print(symbols)\n",
        "\n",
        "last_update = df[\"Date_Added\"].max()\n",
        "print(last_update)"
      ],
      "metadata": {
        "id": "d5J7jyc4uit_"
      },
      "execution_count": null,
      "outputs": []
    },
    {
      "cell_type": "code",
      "source": [
        "ts = yf.download(tickers = symbols, start = last_update)\n",
        "print(ts)\n",
        "print(ts.info())\n",
        "print(ts.Close)\n",
        "print(ts.dropna(inplace = True))\n",
        "\n",
        "perf = ts.Close.iloc[-1].div(ts.Close.iloc[0]).sub(1).sort_values(ascending = False)\n",
        "print(perf) # total price increase/decrease (in %) since last reconstitution\n",
        "\n",
        "perf.index.name = \"Symbol\"\n",
        "print(perf)\n",
        "\n"
      ],
      "metadata": {
        "id": "5ykQO1J7vdXb"
      },
      "execution_count": null,
      "outputs": []
    },
    {
      "cell_type": "markdown",
      "source": [
        "More Detialed Stock Data"
      ],
      "metadata": {
        "id": "2xwO2xkj3ME_"
      }
    },
    {
      "cell_type": "code",
      "source": [
        "msft = yf.Ticker(ticker = \"msft\")\n",
        "print(msft)\n",
        "print(msft.get_info())\n",
        "\n",
        "info = pd.Series(msft.get_info()).to_frame().T\n",
        "print(info)\n",
        "\n",
        "cs = pd.DataFrame()\n",
        "print(cs)\n",
        "\n",
        "count = 1\n",
        "for symbol in symbols:\n",
        "  try:\n",
        "    info = pd.Series(yf.Ticker(ticker = symbol).get_info()).to_frame().T\n",
        "    cs = pd.concat([cs,info])\n",
        "    print(count, end = '\\r')\n",
        "    ccount+=1\n",
        "  except Exception as e:\n",
        "    print(\"{} not found\").format(symbol)\n",
        "  print(\"Download complete.\")\n",
        "\n"
      ],
      "metadata": {
        "id": "L0EhCboD3JK1"
      },
      "execution_count": null,
      "outputs": []
    },
    {
      "cell_type": "markdown",
      "source": [
        "Equity Analysis & Comparison"
      ],
      "metadata": {
        "id": "srCEV_LZDOTn"
      }
    },
    {
      "cell_type": "code",
      "source": [
        "from pandas.io.formats.info import DataFrameTableBuilderVerbose\n",
        "print(cs[\"priceToBook\"].sort_values(ascending = False))\n",
        "print(cs.loc[\"BA\", \"bookValue\"])\n",
        "\n",
        "df[\"PricetoBook\"] = (cs.currentPrice / cs.bookValue)\n",
        "print(df)\n",
        "\n",
        "print(cs.dividendYield)\n",
        "\n",
        "df[\"Dividend_Yield\"] = cs.dividendYield.fillna(0)\n",
        "print(DataFrameTableBuilderVerbose)\n",
        "\n",
        "df[\"ForwardPE\"] = cs.forwardPE\n",
        "print(df)\n",
        "\n",
        "df.sort_values(\"PricetoBook\", ascending = False)\n",
        "df.sort_values(\"ForwardPE\", ascending = False)\n",
        "df.sort_values(\"Dividend_Yield\", ascending = False)\n"
      ],
      "metadata": {
        "id": "v2a4gJ4PDRPP"
      },
      "execution_count": null,
      "outputs": []
    }
  ]
}